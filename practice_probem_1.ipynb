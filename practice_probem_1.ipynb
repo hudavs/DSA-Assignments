{
  "nbformat": 4,
  "nbformat_minor": 0,
  "metadata": {
    "colab": {
      "provenance": []
    },
    "kernelspec": {
      "name": "python3",
      "display_name": "Python 3"
    },
    "language_info": {
      "name": "python"
    }
  },
  "cells": [
    {
      "cell_type": "code",
      "execution_count": null,
      "metadata": {
        "colab": {
          "base_uri": "https://localhost:8080/"
        },
        "id": "ZwLb-V0tX9TD",
        "outputId": "911f7451-2bcc-480b-a2c0-def5b68e0e5a"
      },
      "outputs": [
        {
          "output_type": "stream",
          "name": "stdout",
          "text": [
            "enter a radius:3\n",
            "area of circle: 28.259999999999998\n"
          ]
        }
      ],
      "source": [
        "radius = input(\"enter a radius:\")\n",
        "radius = float(radius)\n",
        "area = 3.14 * radius * radius\n",
        "print(\"area of circle:\",area)\n"
      ]
    },
    {
      "cell_type": "code",
      "source": [
        "name = input(char(\"enter a name:\"))\n",
        "age = input(int(\"enter a mark:\"))\n",
        "roll number = input(int(\"enter a roll number:\"))\n",
        "\n",
        "print(name,age,mark)"
      ],
      "metadata": {
        "colab": {
          "base_uri": "https://localhost:8080/",
          "height": 106
        },
        "id": "C-SC_CHdcp-4",
        "outputId": "29b4a23a-f566-4dce-b21a-7935de6a6512"
      },
      "execution_count": null,
      "outputs": [
        {
          "output_type": "error",
          "ename": "SyntaxError",
          "evalue": "invalid syntax (<ipython-input-56-96678bbc8581>, line 3)",
          "traceback": [
            "\u001b[0;36m  File \u001b[0;32m\"<ipython-input-56-96678bbc8581>\"\u001b[0;36m, line \u001b[0;32m3\u001b[0m\n\u001b[0;31m    roll number = input(int(\"enter a roll number:\"))\u001b[0m\n\u001b[0m         ^\u001b[0m\n\u001b[0;31mSyntaxError\u001b[0m\u001b[0;31m:\u001b[0m invalid syntax\n"
          ]
        }
      ]
    },
    {
      "cell_type": "code",
      "source": [
        "mylist = [ 12, 3, 47, 10]\n",
        "mylist.sort()\n",
        "print(\"the largest element is: \" , mylist[-1])\n"
      ],
      "metadata": {
        "colab": {
          "base_uri": "https://localhost:8080/"
        },
        "id": "2OtW-JZBhlj3",
        "outputId": "95498143-687a-4471-d635-dafc07275986"
      },
      "execution_count": null,
      "outputs": [
        {
          "output_type": "stream",
          "name": "stdout",
          "text": [
            "the largest element is:  47\n"
          ]
        }
      ]
    },
    {
      "cell_type": "code",
      "source": [
        "previous_num = 0\n",
        "for i in range(10):\n",
        "    sum = previous_num + i\n",
        "    print(f'Current number {i} Previous Number {previous_num} is {sum}')\n",
        "    previous_num = i\n"
      ],
      "metadata": {
        "colab": {
          "base_uri": "https://localhost:8080/"
        },
        "id": "24M4sSk5kXPK",
        "outputId": "60f13165-d385-4cb7-e0ee-ca31cb3d4a40"
      },
      "execution_count": null,
      "outputs": [
        {
          "output_type": "stream",
          "name": "stdout",
          "text": [
            "Current number 0 Previous Number 0 is 0\n",
            "Current number 1 Previous Number 0 is 1\n",
            "Current number 2 Previous Number 1 is 3\n",
            "Current number 3 Previous Number 2 is 5\n",
            "Current number 4 Previous Number 3 is 7\n",
            "Current number 5 Previous Number 4 is 9\n",
            "Current number 6 Previous Number 5 is 11\n",
            "Current number 7 Previous Number 6 is 13\n",
            "Current number 8 Previous Number 7 is 15\n",
            "Current number 9 Previous Number 8 is 17\n"
          ]
        }
      ]
    },
    {
      "cell_type": "code",
      "source": [
        "num = int(input(\"Enter the number:\"))\n",
        "\n",
        "if num%5 == 0:\n",
        "  print (\"The number is divisible.\")\n",
        "\n",
        "else:\n",
        "  print (\"The number is not divisible.\")"
      ],
      "metadata": {
        "colab": {
          "base_uri": "https://localhost:8080/"
        },
        "id": "pdKaXQLRl2G-",
        "outputId": "7b2a4e96-4417-44c2-dd3c-23d170d24fbd"
      },
      "execution_count": null,
      "outputs": [
        {
          "output_type": "stream",
          "name": "stdout",
          "text": [
            "Enter the number:10\n",
            "The number is divisible.\n"
          ]
        }
      ]
    },
    {
      "cell_type": "code",
      "source": [
        "number = int(input(\"Enter a number: \"))\n",
        "if number > 1:\n",
        "    for i in range(2, number):\n",
        "        if (number % i) == 0:\n",
        "            print(number, \"is not a prime number\")\n",
        "            break\n",
        "    else:\n",
        "        print(number, \"is a prime number\")\n",
        "else:\n",
        "    print(number, \"is not a prime number\")"
      ],
      "metadata": {
        "colab": {
          "base_uri": "https://localhost:8080/"
        },
        "id": "DZHJhIpPnkYV",
        "outputId": "57767871-198c-4289-fff5-e1df6c069104"
      },
      "execution_count": null,
      "outputs": [
        {
          "output_type": "stream",
          "name": "stdout",
          "text": [
            "Enter a number: 3\n",
            "3 is a prime number\n"
          ]
        }
      ]
    },
    {
      "cell_type": "code",
      "source": [
        "list1 = [10,40,30,70]\n",
        "list1.reverse()\n",
        "print(list1)\n"
      ],
      "metadata": {
        "colab": {
          "base_uri": "https://localhost:8080/"
        },
        "id": "2lIChc9GqG1s",
        "outputId": "cd36387e-00bf-439f-b083-e6a9da700f37"
      },
      "execution_count": null,
      "outputs": [
        {
          "output_type": "stream",
          "name": "stdout",
          "text": [
            "[70, 30, 40, 10]\n"
          ]
        }
      ]
    },
    {
      "cell_type": "code",
      "source": [
        "rows = int(input(\"Enter number of rows: \"))\n",
        "\n",
        "for i in range(rows):\n",
        "    for j in range(i+1):\n",
        "        print(\"* \", end=\"\")\n",
        "    print()"
      ],
      "metadata": {
        "colab": {
          "base_uri": "https://localhost:8080/"
        },
        "id": "no9ZmJGHr0GB",
        "outputId": "0c677501-cdb1-4f72-e4ca-fa7ae083ca55"
      },
      "execution_count": null,
      "outputs": [
        {
          "output_type": "stream",
          "name": "stdout",
          "text": [
            "Enter number of rows: 4\n",
            "* \n",
            "* * \n",
            "* * * \n",
            "* * * * \n"
          ]
        }
      ]
    },
    {
      "cell_type": "code",
      "source": [
        "a = 34\n",
        "b = 12\n",
        "c = 7\n",
        "\n",
        "print(maximum(a,b,c))"
      ],
      "metadata": {
        "colab": {
          "base_uri": "https://localhost:8080/"
        },
        "id": "6QfTTr4GsXRL",
        "outputId": "08df4af4-1f09-48a2-f6a5-b6eeb1ec9507"
      },
      "execution_count": null,
      "outputs": [
        {
          "output_type": "stream",
          "name": "stdout",
          "text": [
            "34\n"
          ]
        }
      ]
    },
    {
      "cell_type": "code",
      "source": [
        "for i in range(10)"
      ],
      "metadata": {
        "id": "HBeLMCi4vteD"
      },
      "execution_count": null,
      "outputs": []
    }
  ]
}