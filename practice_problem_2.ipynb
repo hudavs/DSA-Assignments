{
  "nbformat": 4,
  "nbformat_minor": 0,
  "metadata": {
    "colab": {
      "provenance": []
    },
    "kernelspec": {
      "name": "python3",
      "display_name": "Python 3"
    },
    "language_info": {
      "name": "python"
    }
  },
  "cells": [
    {
      "cell_type": "code",
      "execution_count": 4,
      "metadata": {
        "colab": {
          "base_uri": "https://localhost:8080/"
        },
        "id": "Oul4t6Q8Msue",
        "outputId": "c4c7b6ff-fce3-43e3-de2b-9b5994558dec"
      },
      "outputs": [
        {
          "output_type": "stream",
          "name": "stdout",
          "text": [
            "Enter the first number: 34\n",
            "Enter the second number: 12\n",
            "Enter the third number: 7\n",
            "The maximum of the three numbers is: 34.0\n"
          ]
        }
      ],
      "source": [
        "def find_maximum(num1, num2, num3):\n",
        "  max_num = num1\n",
        "  if num2 > max_num:\n",
        "        max_num = num2\n",
        "  if num3 > max_num:\n",
        "        max_num = num3\n",
        "  return max_num\n",
        "\n",
        "num1 = float(input(\"Enter the first number: \"))\n",
        "num2 = float(input(\"Enter the second number: \"))\n",
        "num3 = float(input(\"Enter the third number: \"))\n",
        "maximum = find_maximum(num1, num2, num3)\n",
        "print(\"The maximum of the three numbers is:\", maximum)"
      ]
    },
    {
      "cell_type": "code",
      "source": [
        "def exponent(base, exp):\n",
        "    return base ** exp\n",
        "base = float(input(\"Enter the base: \"))\n",
        "exp = int(input(\"Enter the exponent: \"))\n",
        "\n",
        "result = exponent(base, exp)\n",
        "print(f\"{base} raised to the power of {exp} is: {result}\")"
      ],
      "metadata": {
        "colab": {
          "base_uri": "https://localhost:8080/"
        },
        "id": "KKPTYJLMPio6",
        "outputId": "e92b1375-d646-482b-a9a5-8857641d20aa"
      },
      "execution_count": 5,
      "outputs": [
        {
          "output_type": "stream",
          "name": "stdout",
          "text": [
            "Enter the base: 2\n",
            "Enter the exponent: 3\n",
            "2.0 raised to the power of 3 is: 8.0\n"
          ]
        }
      ]
    },
    {
      "cell_type": "code",
      "source": [
        "def sum_of_cubes(n):\n",
        "    total_sum = 0\n",
        "    for i in range(1, n):\n",
        "        total_sum += i ** 3\n",
        "    return total_sum\n",
        "n = int(input(\"Enter a positive integer: \"))\n",
        "if n <= 0:\n",
        "    print(\"Please enter a positive integer.\")\n",
        "else:\n",
        "    result = sum_of_cubes(n)"
      ],
      "metadata": {
        "colab": {
          "base_uri": "https://localhost:8080/"
        },
        "id": "cMCAJHvDRj9B",
        "outputId": "23bcc8ab-c48f-4583-d335-544703b66af1"
      },
      "execution_count": 9,
      "outputs": [
        {
          "name": "stdout",
          "output_type": "stream",
          "text": [
            "Enter a positive integer: 4\n"
          ]
        }
      ]
    },
    {
      "cell_type": "code",
      "source": [
        "from collections import Counter\n",
        "\n",
        "def most_frequent_item(numbers):\n",
        "    counts = Counter(numbers)\n",
        "    most_common = counts.most_common(1)[0]\n",
        "    most_frequent_item, frequency = most_common\n",
        "    return most_frequent_item\n",
        "numbers = [2, 3, 4, 2, 5, 2]\n",
        "most_frequent = most_frequent_item(numbers)\n",
        "print(\"The most frequent item in the list is:\", most_frequent)"
      ],
      "metadata": {
        "colab": {
          "base_uri": "https://localhost:8080/"
        },
        "id": "aqYfsVblTXMC",
        "outputId": "37c28b92-ea86-4c98-d741-9bb774cc09c0"
      },
      "execution_count": 11,
      "outputs": [
        {
          "output_type": "stream",
          "name": "stdout",
          "text": [
            "The most frequent item in the list is: 2\n"
          ]
        }
      ]
    },
    {
      "cell_type": "code",
      "source": [
        "def factorial(n):\n",
        "    if n == 0:\n",
        "        return 1\n",
        "    else:\n",
        "        return n * factorial(n - 1)\n",
        "num = int(input(\"Enter a non-negative integer: \"))\n",
        "if num < 0:\n",
        "    print(\"Factorial is not defined for negative numbers.\")\n",
        "else:\n",
        "    result = factorial(num)\n",
        "    print(\"Factorial of\", num, \"is:\", result)"
      ],
      "metadata": {
        "colab": {
          "base_uri": "https://localhost:8080/"
        },
        "id": "n5EfU6gDZWI_",
        "outputId": "783a0682-cfe4-426f-cbfc-82e791d974a5"
      },
      "execution_count": 21,
      "outputs": [
        {
          "output_type": "stream",
          "name": "stdout",
          "text": [
            "Enter a non-negative integer: 3\n",
            "Factorial of 3 is: 6\n"
          ]
        }
      ]
    },
    {
      "cell_type": "code",
      "source": [],
      "metadata": {
        "id": "VnAMqCCsaqSR"
      },
      "execution_count": null,
      "outputs": []
    },
    {
      "cell_type": "code",
      "source": [],
      "metadata": {
        "id": "z8RDnF3wagNA"
      },
      "execution_count": null,
      "outputs": []
    }
  ]
}